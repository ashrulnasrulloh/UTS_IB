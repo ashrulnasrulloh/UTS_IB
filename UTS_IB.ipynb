{
  "nbformat": 4,
  "nbformat_minor": 0,
  "metadata": {
    "colab": {
      "name": "UTS IB.ipynb",
      "provenance": [],
      "authorship_tag": "ABX9TyMMNhehmSkKvppQsIJAS0VA",
      "include_colab_link": true
    },
    "kernelspec": {
      "name": "python3",
      "display_name": "Python 3"
    },
    "language_info": {
      "name": "python"
    }
  },
  "cells": [
    {
      "cell_type": "markdown",
      "metadata": {
        "id": "view-in-github",
        "colab_type": "text"
      },
      "source": [
        "<a href=\"https://colab.research.google.com/github/ashrulnasrulloh/UTS_IB/blob/main/UTS_IB.ipynb\" target=\"_parent\"><img src=\"https://colab.research.google.com/assets/colab-badge.svg\" alt=\"Open In Colab\"/></a>"
      ]
    },
    {
      "cell_type": "code",
      "metadata": {
        "id": "6-Pt77UngnHt"
      },
      "source": [
        "def turun (y,x,z) :\n",
        "  if(z<=x) :\n",
        "    nilai = 1\n",
        "  elif (z>x and z<y) :\n",
        "    nilai = (y-z)/(y-x)\n",
        "  elif(z>=y) :\n",
        "    nilai = 0\n",
        "\n",
        "  return nilai"
      ],
      "execution_count": 22,
      "outputs": []
    },
    {
      "cell_type": "code",
      "metadata": {
        "id": "Miyd529xhxlr"
      },
      "source": [
        "def naik (y,x,z) :\n",
        "  if(z<=x) :\n",
        "    nilai = 0\n",
        "  elif(z>x and z<y) :\n",
        "    nilai = (z-x)/(y-x)\n",
        "  elif(z>=y) :\n",
        "    nilai = 1\n",
        "\n",
        "  return nilai"
      ],
      "execution_count": 23,
      "outputs": []
    },
    {
      "cell_type": "code",
      "metadata": {
        "id": "6ucDmqqkijWx"
      },
      "source": [
        "def agregasi_turun (y,x,alfa) :\n",
        "  nilai = y - (alfa*(y-x))\n",
        "  return nilai"
      ],
      "execution_count": 15,
      "outputs": []
    },
    {
      "cell_type": "code",
      "metadata": {
        "id": "9v9t_5coi8kB"
      },
      "source": [
        "def agregasi_naik (y,x,alfa) :\n",
        "  nilai = alfa*(y-x) + x\n",
        "  return nilai"
      ],
      "execution_count": 5,
      "outputs": []
    },
    {
      "cell_type": "code",
      "metadata": {
        "colab": {
          "base_uri": "https://localhost:8080/"
        },
        "id": "5lIU0GeAjKFh",
        "outputId": "447ba689-2f12-4583-97a0-642f2e053668"
      },
      "source": [
        "var = int(input(\"Jumlah variabl: \"))\n",
        "\n",
        "nama_var = []\n",
        "for i in range(var):\n",
        "  nama = input(\"Masukkan Proses: \")\n",
        "  nama_var.append(nama)"
      ],
      "execution_count": 6,
      "outputs": [
        {
          "name": "stdout",
          "output_type": "stream",
          "text": [
            "Jumlah variabl: 3\n",
            "Masukkan Proses: permintaan\n",
            "Masukkan Proses: persediaan\n",
            "Masukkan Proses: produksi\n"
          ]
        }
      ]
    },
    {
      "cell_type": "code",
      "metadata": {
        "colab": {
          "base_uri": "https://localhost:8080/"
        },
        "id": "tMR7KsCzjyj8",
        "outputId": "6c5766c4-b427-49d0-dc67-09e8f9a8fc63"
      },
      "source": [
        "variabel = dict()\n",
        "for i in nama_var:\n",
        "  print(i)\n",
        "  up = int(input(\"naik : \"))\n",
        "  down = int(input(\"turun : \"))\n",
        "  variabel.update({i+\"_naik\":up})\n",
        "  variabel.update({i+\"_turun\":down})\n",
        "\n",
        "print(variabel)"
      ],
      "execution_count": 24,
      "outputs": [
        {
          "output_type": "stream",
          "name": "stdout",
          "text": [
            "permintaan\n",
            "naik : 5000\n",
            "turun : 1000\n",
            "persediaan\n",
            "naik : 600\n",
            "turun : 100\n",
            "produksi\n",
            "naik : 7000\n",
            "turun : 2000\n",
            "{'permintaan_naik': 5000, 'permintaan_turun': 1000, 'persediaan_naik': 600, 'persediaan_turun': 100, 'produksi_naik': 7000, 'produksi_turun': 2000}\n"
          ]
        }
      ]
    },
    {
      "cell_type": "code",
      "metadata": {
        "colab": {
          "base_uri": "https://localhost:8080/"
        },
        "id": "-UAP_wVjkceh",
        "outputId": "d16fe0fa-f8a5-4dc3-9a3a-e0e688fb74ad"
      },
      "source": [
        "soal = dict()\n",
        "\n",
        "jml = int(input(\"Jumlah variabel yang diketahui : \"))\n",
        "\n",
        "for i in range(jml) :\n",
        "  ver = input(\"Nama Variabel : \")\n",
        "  val = int(input(\"Nilai : \"))\n",
        "  soal.update({ver:val})\n",
        "\n",
        "print(soal)\n",
        "\n",
        "dit = input(\"Variabel yang ditanyakan : \")"
      ],
      "execution_count": 26,
      "outputs": [
        {
          "name": "stdout",
          "output_type": "stream",
          "text": [
            "Jumlah variabel yang diketahui : 2\n",
            "Nama Variabel : permintaan\n",
            "Nilai : 4000\n",
            "Nama Variabel : persediaan\n",
            "Nilai : 300\n",
            "{'permintaan': 4000, 'persediaan': 300}\n",
            "Variabel yang ditanyakan : produksi\n"
          ]
        }
      ]
    },
    {
      "cell_type": "code",
      "metadata": {
        "colab": {
          "base_uri": "https://localhost:8080/"
        },
        "id": "fN04IR36lI9r",
        "outputId": "21e657f0-b38c-414e-825f-3c7db2bd2bea"
      },
      "source": [
        "nk = dict()\n",
        "for i in soal:\n",
        "  up = naik(variabel[i+\"_naik\"],variabel[i+\"_turun\"],soal[i])\n",
        "  down = turun(variabel[i+\"_naik\"],variabel[i+\"_turun\"],soal[i])\n",
        "  nk.update({i+\"_naik\":up})\n",
        "  nk.update({i+\"_turun\":down})\n",
        "\n",
        "print(nk)"
      ],
      "execution_count": 27,
      "outputs": [
        {
          "output_type": "stream",
          "name": "stdout",
          "text": [
            "{'permintaan_naik': 0.75, 'permintaan_turun': 0.25, 'persediaan_naik': 0.4, 'persediaan_turun': 0.6}\n"
          ]
        }
      ]
    },
    {
      "cell_type": "code",
      "metadata": {
        "id": "2iYoaQkql2cK"
      },
      "source": [
        "[R1] IF permintaan TURUN AND Persediaan BANYAK, THEN Produksi Barang dr;\n",
        "[R2] IF permintaan TURUN AND Persediaan SEDIKIT, THEN Produksi Barang BERKURANG;\n",
        "[R3] IF permintaan NAIK AND Persediaan BANYAK, THEN Produksi Barang BERTAMBAH;\n",
        "[R4] IF permintaan NAIK AND Persediaan SEDIKIT, THEN Produksi Barang BERTAMBAH;"
      ],
      "execution_count": null,
      "outputs": []
    },
    {
      "cell_type": "code",
      "metadata": {
        "colab": {
          "base_uri": "https://localhost:8080/"
        },
        "id": "MdW6B1HAmcya",
        "outputId": "396e461b-ab2e-44c6-d021-d21e6a5cb2e7"
      },
      "source": [
        "#AGREGASI\n",
        "alfa = []\n",
        "a = []\n",
        "\n",
        "r = int(input(\"Masukkan jumlah peraturan : \"))\n",
        "\n",
        "for i in range(r):\n",
        "  kondisi1 = input(\"Kondisi 1(naik/turun): \")\n",
        "  kondisi2 = input(\"Kondisi 2(naik/turun): \")\n",
        "  kesimpulan = input(\"Kesimpulan(naik/turun): \")\n",
        "  #Fire Strength INTERSESKSI (AND)\n",
        "  x = min(nk[kondisi1],nk[kondisi2])\n",
        "  alfa.append(x)\n",
        "  if(kesimpulan == \"turun\"):\n",
        "    aa = agregasi_turun(variabel[dit+\"_naik\"],variabel[dit+\"_turun\"],x)\n",
        "  elif(kesimpulan == \"naik\") :\n",
        "    aa = agregasi_naik(variabel[dit+\"_naik\"],variabel[dit+\"_turun\"],x)\n",
        "  a.append(aa)\n"
      ],
      "execution_count": 29,
      "outputs": [
        {
          "name": "stdout",
          "output_type": "stream",
          "text": [
            "Masukkan jumlah peraturan : 4\n",
            "Kondisi 1(naik/turun): permintaan_turun\n",
            "Kondisi 2(naik/turun): persediaan_naik\n",
            "Kesimpulan(naik/turun): turun\n",
            "Kondisi 1(naik/turun): permintaan_turun\n",
            "Kondisi 2(naik/turun): persediaan_turun\n",
            "Kesimpulan(naik/turun): turun\n",
            "Kondisi 1(naik/turun): permintaan_naik\n",
            "Kondisi 2(naik/turun): persediaan_naik\n",
            "Kesimpulan(naik/turun): naik\n",
            "Kondisi 1(naik/turun): permintaan_naik\n",
            "Kondisi 2(naik/turun): persediaan_turun\n",
            "Kesimpulan(naik/turun): naik\n"
          ]
        }
      ]
    },
    {
      "cell_type": "code",
      "metadata": {
        "colab": {
          "base_uri": "https://localhost:8080/"
        },
        "id": "Pjkkx6HZpjRO",
        "outputId": "d7096be2-9c52-4dcd-934c-5f401d97828b"
      },
      "source": [
        "print(alfa)\n",
        "print(a)"
      ],
      "execution_count": 30,
      "outputs": [
        {
          "output_type": "stream",
          "name": "stdout",
          "text": [
            "[0.25, 0.25, 0.4, 0.6]\n",
            "[5750.0, 5750.0, 4000.0, 5000.0]\n"
          ]
        }
      ]
    },
    {
      "cell_type": "code",
      "metadata": {
        "colab": {
          "base_uri": "https://localhost:8080/"
        },
        "id": "0_bWr37DpqV1",
        "outputId": "519d30f1-48b8-491f-d2f1-7ecaebe19f23"
      },
      "source": [
        "#DEFUZIKASI\n",
        "df = 0\n",
        "\n",
        "for i in range(len(alfa)) :\n",
        "  df += alfa[i]*a[i]\n",
        "\n",
        "defuz = int(df/sum(alfa))\n",
        "\n",
        "print(\"Jadi, nilai \",dit,\" adalah \",defuz)"
      ],
      "execution_count": 31,
      "outputs": [
        {
          "output_type": "stream",
          "name": "stdout",
          "text": [
            "Jadi, nilai  produksi  adalah  4983\n"
          ]
        }
      ]
    }
  ]
}